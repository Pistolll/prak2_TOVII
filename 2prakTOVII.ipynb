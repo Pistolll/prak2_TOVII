{
  "cells": [
    {
      "cell_type": "markdown",
      "metadata": {
        "id": "view-in-github",
        "colab_type": "text"
      },
      "source": [
        "<a href=\"https://colab.research.google.com/github/Pistolll/prak2_TOVII/blob/main/2prakTOVII.ipynb\" target=\"_parent\"><img src=\"https://colab.research.google.com/assets/colab-badge.svg\" alt=\"Open In Colab\"/></a>"
      ]
    },
    {
      "cell_type": "code",
      "execution_count": 1,
      "metadata": {
        "id": "MlQ7FzAbXlHX"
      },
      "outputs": [],
      "source": [
        "# Импортируем библиотеки для обработки данных, машинного обучения и нейросетей\n",
        "import gym\n",
        "import numpy as np\n",
        "import pandas as pd\n",
        "from sklearn.preprocessing import StandardScaler\n",
        "from sklearn.model_selection import train_test_split\n",
        "import torch\n",
        "import torch.nn as nn\n",
        "import torch.optim as optim\n",
        "from tqdm import tqdm\n",
        "import matplotlib.pyplot as plt"
      ]
    },
    {
      "cell_type": "code",
      "execution_count": 2,
      "metadata": {
        "colab": {
          "base_uri": "https://localhost:8080/"
        },
        "id": "d4YkZOTkX4ir",
        "outputId": "2eb5ed86-6997-4044-c0c1-f62b3690ce0c"
      },
      "outputs": [
        {
          "output_type": "stream",
          "name": "stdout",
          "text": [
            "Пример данных:\n",
            "   Unnamed: 0  Protocol  Flow Duration  Total Fwd Packets  \\\n",
            "0           0        17         216631                  6   \n",
            "1           1        17              2                  2   \n",
            "2           2        17             48                  2   \n",
            "3           3        17         107319                  4   \n",
            "4           4        17         107271                  4   \n",
            "\n",
            "   Total Backward Packets  Fwd Packets Length Total  Bwd Packets Length Total  \\\n",
            "0                       0                    2088.0                       0.0   \n",
            "1                       0                     802.0                       0.0   \n",
            "2                       0                     766.0                       0.0   \n",
            "3                       0                    1398.0                       0.0   \n",
            "4                       0                    1438.0                       0.0   \n",
            "\n",
            "   Fwd Packet Length Max  Fwd Packet Length Min  Fwd Packet Length Mean  ...  \\\n",
            "0                  393.0                  321.0                   348.0  ...   \n",
            "1                  401.0                  401.0                   401.0  ...   \n",
            "2                  383.0                  383.0                   383.0  ...   \n",
            "3                  369.0                  330.0                   349.5  ...   \n",
            "4                  389.0                  330.0                   359.5  ...   \n",
            "\n",
            "   Active Mean  Active Std  Active Max  Active Min  Idle Mean  Idle Std  \\\n",
            "0          0.0         0.0         0.0         0.0        0.0       0.0   \n",
            "1          0.0         0.0         0.0         0.0        0.0       0.0   \n",
            "2          0.0         0.0         0.0         0.0        0.0       0.0   \n",
            "3          0.0         0.0         0.0         0.0        0.0       0.0   \n",
            "4          0.0         0.0         0.0         0.0        0.0       0.0   \n",
            "\n",
            "   Idle Max  Idle Min  Label   Class  \n",
            "0       0.0       0.0    UDP  Attack  \n",
            "1       0.0       0.0    UDP  Attack  \n",
            "2       0.0       0.0    UDP  Attack  \n",
            "3       0.0       0.0    UDP  Attack  \n",
            "4       0.0       0.0    UDP  Attack  \n",
            "\n",
            "[5 rows x 80 columns]\n",
            "\n",
            "Типы трафика: ['UDP' 'MSSQL' 'Benign' 'Portmap' 'Syn']\n"
          ]
        }
      ],
      "source": [
        "# Загружаем датасет CIC-DDoS2019 с GitHub\n",
        "url = \"https://raw.githubusercontent.com/Pistolll/prak2_TOVII/refs/heads/main/cicddos2019_dataset.csv\"\n",
        "df = pd.read_csv(url)\n",
        "\n",
        "# Выводим первые строки таблицы\n",
        "print(\"Пример данных:\")\n",
        "print(df.head())\n",
        "\n",
        "# Смотрим уникальные значения метки трафика\n",
        "print(\"\\nТипы трафика:\", df['Label'].unique())\n"
      ]
    },
    {
      "cell_type": "code",
      "execution_count": 3,
      "metadata": {
        "id": "olZwZ1XJZRzw"
      },
      "outputs": [],
      "source": [
        "# Заменяем строковые метки: 'Benign' → 0, всё остальное (атаки) → 1\n",
        "df['Label'] = df['Label'].apply(lambda x: 0 if x == 'Benign' else 1)\n",
        "\n",
        "# Удаляем пропущенные значения\n",
        "df = df.dropna()\n",
        "\n",
        "# Оставляем только числовые столбцы\n",
        "df = df.select_dtypes(include=[np.number])\n",
        "\n",
        "# Масштабируем признаки с помощью стандартизации (z-score)\n",
        "scaler = StandardScaler()\n",
        "X = scaler.fit_transform(df.drop('Label', axis=1))  # признаки\n",
        "y = df['Label'].values  # метки"
      ]
    },
    {
      "cell_type": "code",
      "execution_count": 4,
      "metadata": {
        "id": "J2Efa1htZsEZ"
      },
      "outputs": [],
      "source": [
        "# Разбиваем данные: 80% - обучение, 20% - тест\n",
        "X_train, X_test, y_train, y_test = train_test_split(X, y, test_size=0.2, random_state=42)\n"
      ]
    },
    {
      "cell_type": "code",
      "execution_count": 5,
      "metadata": {
        "id": "QQHB_mwDyqlW"
      },
      "outputs": [],
      "source": [
        "# Создаём среду обучения на основе интерфейса OpenAI Gym\n",
        "class TrafficEnv(gym.Env):\n",
        "    def __init__(self, X, y):\n",
        "        super(TrafficEnv, self).__init__()\n",
        "        self.X = X  # входные данные\n",
        "        self.y = y  # метки\n",
        "        self.index = 0  # текущий индекс\n",
        "        self.observation_space = gym.spaces.Box(low=-np.inf, high=np.inf, shape=(X.shape[1],), dtype=np.float32)\n",
        "        self.action_space = gym.spaces.Discrete(2)  # действия: 0 = benign, 1 = attack\n",
        "\n",
        "    def reset(self):\n",
        "        self.index = 0  # сброс индекса\n",
        "        return self.X[self.index]\n",
        "\n",
        "    def step(self, action):\n",
        "        label = self.y[self.index]  # истинная метка\n",
        "        reward = 1 if action == label else -1  # +1 за правильную классификацию, -1 за ошибку\n",
        "        self.index += 1\n",
        "        done = self.index >= len(self.X)  # проверка конца эпизода\n",
        "        obs = self.X[self.index] if not done else np.zeros_like(self.X[0])  # следующее наблюдение\n",
        "        return obs, reward, done, {}\n"
      ]
    },
    {
      "cell_type": "code",
      "execution_count": 6,
      "metadata": {
        "id": "-ulZ4oaoysX-"
      },
      "outputs": [],
      "source": [
        "# Простая fully-connected нейросеть для Q-Learning\n",
        "class DQN(nn.Module):\n",
        "    def __init__(self, input_dim, output_dim):\n",
        "        super(DQN, self).__init__()\n",
        "        self.net = nn.Sequential(\n",
        "            nn.Linear(input_dim, 128),  # первый слой\n",
        "            nn.ReLU(),  # активация\n",
        "            nn.Linear(128, output_dim)  # выходной слой\n",
        "        )\n",
        "\n",
        "    def forward(self, x):\n",
        "        return self.net(x)\n"
      ]
    },
    {
      "cell_type": "code",
      "execution_count": 9,
      "metadata": {
        "id": "8DotqTHjyvHW",
        "colab": {
          "base_uri": "https://localhost:8080/"
        },
        "outputId": "25331d5d-6864-4589-c63b-e9d50b7cde96"
      },
      "outputs": [
        {
          "output_type": "stream",
          "name": "stdout",
          "text": [
            "Эпизод 1/30, Награда: 104.00, Epsilon: 0.9950\n",
            "Эпизод 2/30, Награда: 330.00, Epsilon: 0.9900\n",
            "Эпизод 3/30, Награда: 208.00, Epsilon: 0.9851\n",
            "Эпизод 4/30, Награда: 710.00, Epsilon: 0.9801\n",
            "Эпизод 5/30, Награда: 884.00, Epsilon: 0.9752\n",
            "Эпизод 6/30, Награда: 844.00, Epsilon: 0.9704\n",
            "Эпизод 7/30, Награда: 910.00, Epsilon: 0.9655\n",
            "Эпизод 8/30, Награда: 858.00, Epsilon: 0.9607\n",
            "Эпизод 9/30, Награда: 1194.00, Epsilon: 0.9559\n",
            "Эпизод 10/30, Награда: 1506.00, Epsilon: 0.9511\n",
            "Эпизод 11/30, Награда: 1488.00, Epsilon: 0.9464\n",
            "Эпизод 12/30, Награда: 1700.00, Epsilon: 0.9416\n",
            "Эпизод 13/30, Награда: 2124.00, Epsilon: 0.9369\n",
            "Эпизод 14/30, Награда: 2256.00, Epsilon: 0.9322\n",
            "Эпизод 15/30, Награда: 2382.00, Epsilon: 0.9276\n",
            "Эпизод 16/30, Награда: 2550.00, Epsilon: 0.9229\n",
            "Эпизод 17/30, Награда: 2780.00, Epsilon: 0.9183\n",
            "Эпизод 18/30, Награда: 2754.00, Epsilon: 0.9137\n",
            "Эпизод 19/30, Награда: 3116.00, Epsilon: 0.9092\n",
            "Эпизод 20/30, Награда: 3432.00, Epsilon: 0.9046\n",
            "Эпизод 21/30, Награда: 3544.00, Epsilon: 0.9001\n",
            "Эпизод 22/30, Награда: 3776.00, Epsilon: 0.8956\n",
            "Эпизод 23/30, Награда: 3834.00, Epsilon: 0.8911\n",
            "Эпизод 24/30, Награда: 4220.00, Epsilon: 0.8867\n",
            "Эпизод 25/30, Награда: 4328.00, Epsilon: 0.8822\n",
            "Эпизод 26/30, Награда: 4576.00, Epsilon: 0.8778\n",
            "Эпизод 27/30, Награда: 4422.00, Epsilon: 0.8734\n",
            "Эпизод 28/30, Награда: 4594.00, Epsilon: 0.8691\n",
            "Эпизод 29/30, Награда: 5248.00, Epsilon: 0.8647\n",
            "Эпизод 30/30, Награда: 5020.00, Epsilon: 0.8604\n"
          ]
        }
      ],
      "source": [
        "def train_agent(env, episodes=30, gamma=0.99, lr=1e-3, epsilon_start=1.0, epsilon_end=0.05, epsilon_decay=0.995):\n",
        "    \"\"\"\n",
        "    Обучает агента с использованием DQN (глубокой Q-сети) в заданной среде с затухающей стратегией ε-жадности.\n",
        "    Параметры:\n",
        "    - env: среда (должна соответствовать интерфейсу OpenAI Gym)\n",
        "    - episodes: количество эпизодов обучения\n",
        "    - gamma: коэффициент дисконтирования\n",
        "    - lr: скорость обучения\n",
        "    - epsilon_start: начальное значение ε\n",
        "    - epsilon_end: минимальное значение ε\n",
        "    - epsilon_decay: коэффициент затухания ε\n",
        "    Возвращает:\n",
        "    - обученную модель\n",
        "    - список суммарных наград по каждому эпизоду\n",
        "    \"\"\"\n",
        "    model = DQN(env.observation_space.shape[0], env.action_space.n)\n",
        "    optimizer = optim.Adam(model.parameters(), lr=lr)\n",
        "    loss_fn = nn.MSELoss()\n",
        "\n",
        "    rewards_all = []\n",
        "    epsilon = epsilon_start\n",
        "\n",
        "    for episode in range(episodes):\n",
        "        obs = torch.FloatTensor(env.reset())\n",
        "        total_reward = 0\n",
        "        done = False\n",
        "\n",
        "        while not done:\n",
        "            # Epsilon-greedy стратегия с затуханием\n",
        "            if np.random.rand() < epsilon:\n",
        "                action = env.action_space.sample()\n",
        "            else:\n",
        "                with torch.no_grad():\n",
        "                    q_vals = model(obs)\n",
        "                    action = q_vals.argmax().item()\n",
        "\n",
        "            next_obs, reward, done, _ = env.step(action)\n",
        "            next_obs_tensor = torch.FloatTensor(next_obs)\n",
        "\n",
        "            with torch.no_grad():\n",
        "                q_next = model(next_obs_tensor).max().item()\n",
        "            q_target = reward + gamma * q_next\n",
        "\n",
        "            q_pred = model(obs)[action]\n",
        "            loss = loss_fn(q_pred, torch.tensor(q_target))\n",
        "\n",
        "            optimizer.zero_grad()\n",
        "            loss.backward()\n",
        "            optimizer.step()\n",
        "\n",
        "            obs = next_obs_tensor\n",
        "            total_reward += reward\n",
        "\n",
        "        rewards_all.append(total_reward)\n",
        "\n",
        "        # Обновление ε\n",
        "        epsilon = max(epsilon_end, epsilon * epsilon_decay)\n",
        "\n",
        "        print(f\"Эпизод {episode + 1}/{episodes}, Награда: {total_reward:.2f}, Epsilon: {epsilon:.4f}\")\n",
        "\n",
        "    return model, rewards_all\n",
        "# Пример вызова:\n",
        "env = TrafficEnv(X_train, y_train)\n",
        "model, rewards = train_agent(env, episodes=30)\n"
      ]
    },
    {
      "cell_type": "markdown",
      "source": [
        " Награды — это числовые значения, которые агент получает в ходе обучения в каждом эпизоде. Они отражают, насколько хорошо агент справился с задачей на каждом этапе взаимодействия со средой."
      ],
      "metadata": {
        "id": "pxj41JlJFF-o"
      }
    },
    {
      "cell_type": "markdown",
      "metadata": {
        "id": "x8UC2y_86Of3"
      },
      "source": [
        "Ось X (горизонтальная) — номер эпизода обучения.\n",
        "Ось Y (вертикальная) — суммарная награда, полученная агентом за один эпизод.\n",
        "Кривая — показывает, как менялась общая награда по мере обучения агента.\n"
      ]
    },
    {
      "cell_type": "code",
      "source": [
        "# Строим график наград по эпизодам\n",
        "plt.plot(rewards)\n",
        "plt.title(\"Награды по эпизодам\")\n",
        "plt.xlabel(\"Эпизод\")\n",
        "plt.ylabel(\"Общая награда\")\n",
        "plt.grid(True)\n",
        "plt.show()"
      ],
      "metadata": {
        "colab": {
          "base_uri": "https://localhost:8080/",
          "height": 472
        },
        "id": "XaxaQSWVnBEM",
        "outputId": "d53792f5-7ca9-4e27-aff9-46603a470ca7"
      },
      "execution_count": 10,
      "outputs": [
        {
          "output_type": "display_data",
          "data": {
            "text/plain": [
              "<Figure size 640x480 with 1 Axes>"
            ],
            "image/png": "[encoded data removed]"
          },
          "metadata": {}
        }
      ]
    },
    {
      "cell_type": "markdown",
      "source": [
        "🔹 Что такое ε в контексте обучения с подкреплением?\n",
        "Эпсилон используется в epsilon-greedy strategy — одном из ключевых методов выбора действий агентом в процессе обучения.\n",
        "\n",
        "🔸 Зачем он нужен?\n",
        "Эпсилон нужен для баланса между исследованием и эксплуатацией:\n",
        "\n",
        "Исследование: агент пробует новые действия, которые могут привести к лучшим наградам в будущем.\n",
        "\n",
        "Эксплуатация: агент выбирает известное наилучшее действие на основе уже полученного опыта (Q-значений).\n",
        "\n",
        "🔸 Как работает ε-жадная стратегия:\n",
        "На каждом шаге агент:\n",
        "\n",
        "с вероятностью ε выбирает случайное действие (исследует),\n",
        "\n",
        "с вероятностью 1 - ε выбирает лучшее по Q-сети действие (эксплуатирует).\n",
        "\n",
        "🔸 Почему важна постепенная затухающая ε-стратегия?\n",
        "В начале обучения — ε высокий (например, 1.0), агент изучает мир, пробует всё подряд.\n",
        "\n",
        "Постепенно — ε уменьшается (например, до 0.05), агент всё чаще действует на основе уже выученной Q-сети.\n",
        "\n",
        "Это позволяет сначала собрать разнообразный опыт, а потом эффективно использовать знания для максимизации награды."
      ],
      "metadata": {
        "id": "VIazVT5i60vp"
      }
    },
    {
      "cell_type": "markdown",
      "metadata": {
        "id": "LpS7m6Yg6TX-"
      },
      "source": [
        "Что такое награда в Reinforcement Learning\n",
        "В обучении с подкреплением:\n",
        "\n",
        "Агент принимает решения (в нашем случае — классифицирует сетевой трафик как Benign или Attack);\n",
        "\n",
        "За каждое действие он получает награду:\n",
        "+1, если правильно классифицировал (например, верно определил атаку);\n",
        "−1, если ошибся (например, пропустил вредоносный запрос).\n",
        "\n",
        "Суммарная награда за эпизод — это общее количество очков, набранных агентом при прохождении всей выборки."
      ]
    },
    {
      "cell_type": "code",
      "execution_count": 11,
      "metadata": {
        "colab": {
          "base_uri": "https://localhost:8080/"
        },
        "id": "q-6MKdxsyxi2",
        "outputId": "06dec268-1fcc-4b8c-dd78-1c00176ec034"
      },
      "outputs": [
        {
          "output_type": "stream",
          "name": "stdout",
          "text": [
            "              precision    recall  f1-score   support\n",
            "\n",
            "      Benign       0.90      0.98      0.94      1433\n",
            "      Attack       1.00      0.98      0.99      8281\n",
            "\n",
            "    accuracy                           0.98      9714\n",
            "   macro avg       0.95      0.98      0.96      9714\n",
            "weighted avg       0.98      0.98      0.98      9714\n",
            "\n"
          ]
        }
      ],
      "source": [
        "# Оцениваем точность классификации RL-модели\n",
        "def evaluate_model(model, X, y):\n",
        "    X = torch.FloatTensor(X)  # преобразуем в тензоры\n",
        "    preds = model(X).argmax(dim=1).numpy()  # получаем предсказания\n",
        "    from sklearn.metrics import classification_report\n",
        "    print(classification_report(y, preds, target_names=[\"Benign\", \"Attack\"]))  # метрики\n",
        "\n",
        "evaluate_model(model, X_test, y_test)\n"
      ]
    },
    {
      "cell_type": "markdown",
      "metadata": {
        "id": "R-YfNguL6tlo"
      },
      "source": [
        "Объяснение метрик:\n",
        "\n",
        "Precision\tТочность — сколько предсказанных Attack действительно были атаками\n",
        "\n",
        "Recall\tПолнота — сколько всех реальных Attack было правильно найдено\n",
        "\n",
        "F1-score\tСреднее между precision и recall\n",
        "\n",
        "Support\tСколько всего примеров каждого класса в тесте"
      ]
    },
    {
      "cell_type": "code",
      "execution_count": 12,
      "metadata": {
        "colab": {
          "base_uri": "https://localhost:8080/"
        },
        "id": "jxv2eL4r6BSK",
        "outputId": "0a5ee1a9-e9a3-4108-8a9d-15b59c8286d2"
      },
      "outputs": [
        {
          "output_type": "stream",
          "name": "stdout",
          "text": [
            "\n",
            " Сравнение с RandomForest:\n",
            "              precision    recall  f1-score   support\n",
            "\n",
            "      Benign       1.00      1.00      1.00      1433\n",
            "      Attack       1.00      1.00      1.00      8281\n",
            "\n",
            "    accuracy                           1.00      9714\n",
            "   macro avg       1.00      1.00      1.00      9714\n",
            "weighted avg       1.00      1.00      1.00      9714\n",
            "\n"
          ]
        }
      ],
      "source": [
        "# Обучаем классическую модель Random Forest\n",
        "from sklearn.ensemble import RandomForestClassifier\n",
        "\n",
        "clf = RandomForestClassifier()\n",
        "clf.fit(X_train, y_train)\n",
        "y_pred_rf = clf.predict(X_test)\n",
        "\n",
        "# Выводим метрики качества\n",
        "print(\"\\n Сравнение с RandomForest:\")\n",
        "from sklearn.metrics import classification_report\n",
        "print(classification_report(y_test, y_pred_rf, target_names=[\"Benign\", \"Attack\"]))\n"
      ]
    }
  ],
  "metadata": {
    "colab": {
      "provenance": [],
      "authorship_tag": "ABX9TyOK7EsawNYYMizZG/pZj87d",
      "include_colab_link": true
    },
    "kernelspec": {
      "display_name": "Python 3",
      "name": "python3"
    },
    "language_info": {
      "name": "python"
    }
  },
  "nbformat": 4,
  "nbformat_minor": 0
}