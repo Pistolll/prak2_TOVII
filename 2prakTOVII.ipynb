{
  "cells": [
    {
      "cell_type": "markdown",
      "metadata": {
        "id": "view-in-github",
        "colab_type": "text"
      },
      "source": [
        "<a href=\"https://colab.research.google.com/github/Pistolll/prak2_TOVII/blob/main/2prakTOVII.ipynb\" target=\"_parent\"><img src=\"https://colab.research.google.com/assets/colab-badge.svg\" alt=\"Open In Colab\"/></a>"
      ]
    },
    {
      "cell_type": "code",
      "execution_count": 1,
      "metadata": {
        "id": "MlQ7FzAbXlHX"
      },
      "outputs": [],
      "source": [
        "# Импортируем библиотеки для обработки данных, машинного обучения и нейросетей\n",
        "import gym\n",
        "import numpy as np\n",
        "import pandas as pd\n",
        "from sklearn.preprocessing import StandardScaler\n",
        "from sklearn.model_selection import train_test_split\n",
        "import torch\n",
        "import torch.nn as nn\n",
        "import torch.optim as optim\n",
        "from tqdm import tqdm\n",
        "import matplotlib.pyplot as plt"
      ]
    },
    {
      "cell_type": "code",
      "execution_count": 2,
      "metadata": {
        "colab": {
          "base_uri": "https://localhost:8080/"
        },
        "id": "d4YkZOTkX4ir",
        "outputId": "238cd9fe-ef67-4f39-d7d5-fffc617b1f37"
      },
      "outputs": [
        {
          "output_type": "stream",
          "name": "stdout",
          "text": [
            "Пример данных:\n",
            "   Unnamed: 0  Protocol  Flow Duration  Total Fwd Packets  \\\n",
            "0           0        17         216631                  6   \n",
            "1           1        17              2                  2   \n",
            "2           2        17             48                  2   \n",
            "3           3        17         107319                  4   \n",
            "4           4        17         107271                  4   \n",
            "\n",
            "   Total Backward Packets  Fwd Packets Length Total  Bwd Packets Length Total  \\\n",
            "0                       0                    2088.0                       0.0   \n",
            "1                       0                     802.0                       0.0   \n",
            "2                       0                     766.0                       0.0   \n",
            "3                       0                    1398.0                       0.0   \n",
            "4                       0                    1438.0                       0.0   \n",
            "\n",
            "   Fwd Packet Length Max  Fwd Packet Length Min  Fwd Packet Length Mean  ...  \\\n",
            "0                  393.0                  321.0                   348.0  ...   \n",
            "1                  401.0                  401.0                   401.0  ...   \n",
            "2                  383.0                  383.0                   383.0  ...   \n",
            "3                  369.0                  330.0                   349.5  ...   \n",
            "4                  389.0                  330.0                   359.5  ...   \n",
            "\n",
            "   Active Mean  Active Std  Active Max  Active Min  Idle Mean  Idle Std  \\\n",
            "0          0.0         0.0         0.0         0.0        0.0       0.0   \n",
            "1          0.0         0.0         0.0         0.0        0.0       0.0   \n",
            "2          0.0         0.0         0.0         0.0        0.0       0.0   \n",
            "3          0.0         0.0         0.0         0.0        0.0       0.0   \n",
            "4          0.0         0.0         0.0         0.0        0.0       0.0   \n",
            "\n",
            "   Idle Max  Idle Min  Label   Class  \n",
            "0       0.0       0.0    UDP  Attack  \n",
            "1       0.0       0.0    UDP  Attack  \n",
            "2       0.0       0.0    UDP  Attack  \n",
            "3       0.0       0.0    UDP  Attack  \n",
            "4       0.0       0.0    UDP  Attack  \n",
            "\n",
            "[5 rows x 80 columns]\n",
            "\n",
            "Типы трафика: ['UDP' 'MSSQL' 'Benign' 'Portmap' 'Syn']\n"
          ]
        }
      ],
      "source": [
        "# Загружаем датасет CIC-DDoS2019 с GitHub\n",
        "url = \"https://raw.githubusercontent.com/Pistolll/prak2_TOVII/refs/heads/main/cicddos2019_dataset.csv\"\n",
        "df = pd.read_csv(url)\n",
        "\n",
        "# Выводим первые строки таблицы\n",
        "print(\"Пример данных:\")\n",
        "print(df.head())\n",
        "\n",
        "# Смотрим уникальные значения метки трафика\n",
        "print(\"\\nТипы трафика:\", df['Label'].unique())\n"
      ]
    },
    {
      "cell_type": "code",
      "execution_count": 3,
      "metadata": {
        "id": "olZwZ1XJZRzw"
      },
      "outputs": [],
      "source": [
        "# Заменяем строковые метки: 'Benign' → 0, всё остальное (атаки) → 1\n",
        "df['Label'] = df['Label'].apply(lambda x: 0 if x == 'Benign' else 1)\n",
        "\n",
        "# Удаляем пропущенные значения\n",
        "df = df.dropna()\n",
        "\n",
        "# Оставляем только числовые столбцы\n",
        "df = df.select_dtypes(include=[np.number])\n",
        "\n",
        "# Масштабируем признаки с помощью стандартизации (z-score)\n",
        "scaler = StandardScaler()\n",
        "X = scaler.fit_transform(df.drop('Label', axis=1))  # признаки\n",
        "y = df['Label'].values  # метки"
      ]
    },
    {
      "cell_type": "code",
      "execution_count": 4,
      "metadata": {
        "id": "J2Efa1htZsEZ"
      },
      "outputs": [],
      "source": [
        "# Разбиваем данные: 80% - обучение, 20% - тест\n",
        "X_train, X_test, y_train, y_test = train_test_split(X, y, test_size=0.2, random_state=42)\n"
      ]
    },
    {
      "cell_type": "code",
      "execution_count": 5,
      "metadata": {
        "id": "QQHB_mwDyqlW"
      },
      "outputs": [],
      "source": [
        "# Создаём среду обучения на основе интерфейса OpenAI Gym\n",
        "class TrafficEnv(gym.Env):\n",
        "    def __init__(self, X, y):\n",
        "        super(TrafficEnv, self).__init__()\n",
        "        self.X = X  # входные данные\n",
        "        self.y = y  # метки\n",
        "        self.index = 0  # текущий индекс\n",
        "        self.observation_space = gym.spaces.Box(low=-np.inf, high=np.inf, shape=(X.shape[1],), dtype=np.float32)\n",
        "        self.action_space = gym.spaces.Discrete(2)  # действия: 0 = benign, 1 = attack\n",
        "\n",
        "    def reset(self):\n",
        "        self.index = 0  # сброс индекса\n",
        "        return self.X[self.index]\n",
        "\n",
        "    def step(self, action):\n",
        "        label = self.y[self.index]  # истинная метка\n",
        "        reward = 1 if action == label else -1  # +1 за правильную классификацию, -1 за ошибку\n",
        "        self.index += 1\n",
        "        done = self.index >= len(self.X)  # проверка конца эпизода\n",
        "        obs = self.X[self.index] if not done else np.zeros_like(self.X[0])  # следующее наблюдение\n",
        "        return obs, reward, done, {}\n"
      ]
    },
    {
      "cell_type": "code",
      "execution_count": 6,
      "metadata": {
        "id": "-ulZ4oaoysX-"
      },
      "outputs": [],
      "source": [
        "# Простая fully-connected нейросеть для Q-Learning\n",
        "class DQN(nn.Module):\n",
        "    def __init__(self, input_dim, output_dim):\n",
        "        super(DQN, self).__init__()\n",
        "        self.net = nn.Sequential(\n",
        "            nn.Linear(input_dim, 128),  # первый слой\n",
        "            nn.ReLU(),  # активация\n",
        "            nn.Linear(128, output_dim)  # выходной слой\n",
        "        )\n",
        "\n",
        "    def forward(self, x):\n",
        "        return self.net(x)\n"
      ]
    },
    {
      "cell_type": "code",
      "execution_count": 7,
      "metadata": {
        "id": "8DotqTHjyvHW",
        "colab": {
          "base_uri": "https://localhost:8080/"
        },
        "outputId": "2fee28c6-9b6c-45c2-8849-dd32d102520a"
      },
      "outputs": [
        {
          "output_type": "stream",
          "name": "stdout",
          "text": [
            "Эпизод 1/30, Награда: 27692.00\n",
            "Эпизод 2/30, Награда: 30012.00\n",
            "Эпизод 3/30, Награда: 29670.00\n",
            "Эпизод 4/30, Награда: 29746.00\n",
            "Эпизод 5/30, Награда: 30198.00\n",
            "Эпизод 6/30, Награда: 29920.00\n",
            "Эпизод 7/30, Награда: 30632.00\n",
            "Эпизод 8/30, Награда: 30560.00\n",
            "Эпизод 9/30, Награда: 31130.00\n",
            "Эпизод 10/30, Награда: 31422.00\n",
            "Эпизод 11/30, Награда: 31808.00\n",
            "Эпизод 12/30, Награда: 30804.00\n",
            "Эпизод 13/30, Награда: 31382.00\n",
            "Эпизод 14/30, Награда: 31356.00\n",
            "Эпизод 15/30, Награда: 31726.00\n",
            "Эпизод 16/30, Награда: 31966.00\n",
            "Эпизод 17/30, Награда: 32222.00\n",
            "Эпизод 18/30, Награда: 32422.00\n",
            "Эпизод 19/30, Награда: 32090.00\n",
            "Эпизод 20/30, Награда: 32806.00\n",
            "Эпизод 21/30, Награда: 32848.00\n",
            "Эпизод 22/30, Награда: 31992.00\n",
            "Эпизод 23/30, Награда: 32516.00\n",
            "Эпизод 24/30, Награда: 32826.00\n",
            "Эпизод 25/30, Награда: 32548.00\n",
            "Эпизод 26/30, Награда: 32752.00\n",
            "Эпизод 27/30, Награда: 32668.00\n",
            "Эпизод 28/30, Награда: 33240.00\n",
            "Эпизод 29/30, Награда: 32606.00\n",
            "Эпизод 30/30, Награда: 33300.00\n"
          ]
        }
      ],
      "source": [
        "# Функция обучения агента на среде\n",
        "def train_agent(env, episodes=30, gamma=0.99, lr=1e-3, epsilon=0.1):\n",
        "    \"\"\"\n",
        "    Обучает агента с использованием DQN (глубокой Q-сети) в заданной среде.\n",
        "    Параметры:\n",
        "    - env: среда (должна соответствовать интерфейсу OpenAI Gym)\n",
        "    - episodes: количество эпизодов обучения\n",
        "    - gamma: коэффициент дисконтирования\n",
        "    - lr: скорость обучения\n",
        "    - epsilon: вероятность случайного действия (epsilon-greedy)\n",
        "    Возвращает:\n",
        "    - обученную модель\n",
        "    - список суммарных наград по каждому эпизоду\n",
        "    \"\"\"\n",
        "    model = DQN(env.observation_space.shape[0], env.action_space.n)  # инициализируем модель\n",
        "    optimizer = optim.Adam(model.parameters(), lr=lr)  # оптимизатор Adam\n",
        "    loss_fn = nn.MSELoss()  # функция потерь — среднеквадратичная ошибка\n",
        "\n",
        "    rewards_all = []  # список для хранения наград по эпизодам\n",
        "\n",
        "    for episode in range(episodes):\n",
        "        obs = torch.FloatTensor(env.reset())  # получаем начальное состояние среды\n",
        "        total_reward = 0  # суммарная награда за эпизод\n",
        "        done = False  # флаг завершения эпизода\n",
        "\n",
        "        while not done:\n",
        "            # Получаем Q-значения для текущего состояния\n",
        "            with torch.no_grad():\n",
        "                q_vals = model(obs)\n",
        "\n",
        "            # Epsilon-greedy стратегия выбора действия\n",
        "            if np.random.rand() < epsilon:\n",
        "                action = env.action_space.sample()  # случайное действие\n",
        "            else:\n",
        "                action = q_vals.argmax().item()  # действие с максимальным Q\n",
        "\n",
        "            # Выполняем действие в среде\n",
        "            next_obs, reward, done, _ = env.step(action)\n",
        "            next_obs_tensor = torch.FloatTensor(next_obs)\n",
        "\n",
        "            # Вычисляем целевое значение Q\n",
        "            with torch.no_grad():\n",
        "                q_next = model(next_obs_tensor).max().item()\n",
        "            q_target = reward + gamma * q_next\n",
        "\n",
        "            # Вычисляем предсказанное Q и обновляем модель\n",
        "            q_pred = model(obs)[action]\n",
        "            loss = loss_fn(q_pred, torch.tensor(q_target))\n",
        "\n",
        "            optimizer.zero_grad()\n",
        "            loss.backward()\n",
        "            optimizer.step()\n",
        "\n",
        "            # Обновляем состояние и награду\n",
        "            obs = next_obs_tensor\n",
        "            total_reward += reward\n",
        "\n",
        "        rewards_all.append(total_reward)  # сохраняем награду за эпизод\n",
        "        print(f\"Эпизод {episode + 1}/{episodes}, Награда: {total_reward:.2f}\")  # выводим прогресс\n",
        "\n",
        "    return model, rewards_all  # возвращаем обученную модель и список наград\n",
        "\n",
        "# Создаём среду на основе тренировочных данных\n",
        "env = TrafficEnv(X_train, y_train)\n",
        "\n",
        "# Обучаем агента\n",
        "model, rewards = train_agent(env, episodes=30)\n",
        "\n",
        "\n"
      ]
    },
    {
      "cell_type": "markdown",
      "source": [
        " Награды — это числовые значения, которые агент получает в ходе обучения в каждом эпизоде. Они отражают, насколько хорошо агент справился с задачей на каждом этапе взаимодействия со средой."
      ],
      "metadata": {
        "id": "pxj41JlJFF-o"
      }
    },
    {
      "cell_type": "markdown",
      "metadata": {
        "id": "x8UC2y_86Of3"
      },
      "source": [
        "Ось X (горизонтальная) — номер эпизода обучения.\n",
        "Ось Y (вертикальная) — суммарная награда, полученная агентом за один эпизод.\n",
        "Кривая — показывает, как менялась общая награда по мере обучения агента.\n"
      ]
    },
    {
      "cell_type": "code",
      "source": [
        "# Строим график наград по эпизодам\n",
        "plt.plot(rewards)\n",
        "plt.title(\"Награды по эпизодам\")\n",
        "plt.xlabel(\"Эпизод\")\n",
        "plt.ylabel(\"Общая награда\")\n",
        "plt.grid(True)\n",
        "plt.show()"
      ],
      "metadata": {
        "colab": {
          "base_uri": "https://localhost:8080/",
          "height": 472
        },
        "id": "XaxaQSWVnBEM",
        "outputId": "2f88aa38-3b09-4ee8-c828-0874a34f8dff"
      },
      "execution_count": 8,
      "outputs": [
        {
          "output_type": "display_data",
          "data": {
            "text/plain": [
              "<Figure size 640x480 with 1 Axes>"
            ],
            "image/png": "[encoded data removed]"
          },
          "metadata": {}
        }
      ]
    },
    {
      "cell_type": "markdown",
      "metadata": {
        "id": "LpS7m6Yg6TX-"
      },
      "source": [
        "Что такое награда в Reinforcement Learning\n",
        "В обучении с подкреплением:\n",
        "\n",
        "Агент принимает решения (в нашем случае — классифицирует сетевой трафик как Benign или Attack);\n",
        "\n",
        "За каждое действие он получает награду:\n",
        "+1, если правильно классифицировал (например, верно определил атаку);\n",
        "−1, если ошибся (например, пропустил вредоносный запрос).\n",
        "\n",
        "Суммарная награда за эпизод — это общее количество очков, набранных агентом при прохождении всей выборки."
      ]
    },
    {
      "cell_type": "code",
      "execution_count": 9,
      "metadata": {
        "colab": {
          "base_uri": "https://localhost:8080/"
        },
        "id": "q-6MKdxsyxi2",
        "outputId": "04e4f80c-80d6-45df-f7f0-081c041271e8"
      },
      "outputs": [
        {
          "output_type": "stream",
          "name": "stdout",
          "text": [
            "              precision    recall  f1-score   support\n",
            "\n",
            "      Benign       1.00      0.85      0.92      1433\n",
            "      Attack       0.98      1.00      0.99      8281\n",
            "\n",
            "    accuracy                           0.98      9714\n",
            "   macro avg       0.99      0.93      0.95      9714\n",
            "weighted avg       0.98      0.98      0.98      9714\n",
            "\n"
          ]
        }
      ],
      "source": [
        "# Оцениваем точность классификации RL-модели\n",
        "def evaluate_model(model, X, y):\n",
        "    X = torch.FloatTensor(X)  # преобразуем в тензоры\n",
        "    preds = model(X).argmax(dim=1).numpy()  # получаем предсказания\n",
        "    from sklearn.metrics import classification_report\n",
        "    print(classification_report(y, preds, target_names=[\"Benign\", \"Attack\"]))  # метрики\n",
        "\n",
        "evaluate_model(model, X_test, y_test)\n"
      ]
    },
    {
      "cell_type": "markdown",
      "metadata": {
        "id": "R-YfNguL6tlo"
      },
      "source": [
        "Объяснение метрик:\n",
        "\n",
        "Precision\tТочность — сколько предсказанных Attack действительно были атаками\n",
        "\n",
        "Recall\tПолнота — сколько всех реальных Attack было правильно найдено\n",
        "\n",
        "F1-score\tСреднее между precision и recall\n",
        "\n",
        "Support\tСколько всего примеров каждого класса в тесте"
      ]
    },
    {
      "cell_type": "code",
      "execution_count": 10,
      "metadata": {
        "colab": {
          "base_uri": "https://localhost:8080/"
        },
        "id": "jxv2eL4r6BSK",
        "outputId": "ce35cf43-c40e-44ff-bfd3-a2e1aeeef384"
      },
      "outputs": [
        {
          "output_type": "stream",
          "name": "stdout",
          "text": [
            "\n",
            " Сравнение с RandomForest:\n",
            "              precision    recall  f1-score   support\n",
            "\n",
            "      Benign       1.00      1.00      1.00      1433\n",
            "      Attack       1.00      1.00      1.00      8281\n",
            "\n",
            "    accuracy                           1.00      9714\n",
            "   macro avg       1.00      1.00      1.00      9714\n",
            "weighted avg       1.00      1.00      1.00      9714\n",
            "\n"
          ]
        }
      ],
      "source": [
        "# Обучаем классическую модель Random Forest\n",
        "from sklearn.ensemble import RandomForestClassifier\n",
        "\n",
        "clf = RandomForestClassifier()\n",
        "clf.fit(X_train, y_train)\n",
        "y_pred_rf = clf.predict(X_test)\n",
        "\n",
        "# Выводим метрики качества\n",
        "print(\"\\n Сравнение с RandomForest:\")\n",
        "from sklearn.metrics import classification_report\n",
        "print(classification_report(y_test, y_pred_rf, target_names=[\"Benign\", \"Attack\"]))\n"
      ]
    }
  ],
  "metadata": {
    "colab": {
      "provenance": [],
      "authorship_tag": "ABX9TyPQRqO/MphpY92NzunAkFJZ",
      "include_colab_link": true
    },
    "kernelspec": {
      "display_name": "Python 3",
      "name": "python3"
    },
    "language_info": {
      "name": "python"
    }
  },
  "nbformat": 4,
  "nbformat_minor": 0
}