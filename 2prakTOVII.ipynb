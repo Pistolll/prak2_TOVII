{
  "nbformat": 4,
  "nbformat_minor": 0,
  "metadata": {
    "colab": {
      "provenance": [],
      "authorship_tag": "ABX9TyNnqHXSxdJix4SOVc+HG8NE",
      "include_colab_link": true
    },
    "kernelspec": {
      "name": "python3",
      "display_name": "Python 3"
    },
    "language_info": {
      "name": "python"
    }
  },
  "cells": [
    {
      "cell_type": "markdown",
      "metadata": {
        "id": "view-in-github",
        "colab_type": "text"
      },
      "source": [
        "<a href=\"https://colab.research.google.com/github/Pistolll/prak2_TOVII/blob/main/2prakTOVII.ipynb\" target=\"_parent\"><img src=\"https://colab.research.google.com/assets/colab-badge.svg\" alt=\"Open In Colab\"/></a>"
      ]
    },
    {
      "cell_type": "code",
      "execution_count": 1,
      "metadata": {
        "id": "MlQ7FzAbXlHX"
      },
      "outputs": [],
      "source": [
        "# Импортируем библиотеки для обработки данных, машинного обучения и нейросетей\n",
        "import gym\n",
        "import numpy as np\n",
        "import pandas as pd\n",
        "from sklearn.preprocessing import StandardScaler\n",
        "from sklearn.model_selection import train_test_split\n",
        "import torch\n",
        "import torch.nn as nn\n",
        "import torch.optim as optim\n",
        "from tqdm import tqdm\n",
        "import matplotlib.pyplot as plt"
      ]
    },
    {
      "cell_type": "code",
      "source": [
        "# Загружаем датасет CIC-DDoS2019 с GitHub\n",
        "url = \"https://raw.githubusercontent.com/Pistolll/prak2_TOVII/refs/heads/main/cicddos2019_dataset.csv\"\n",
        "df = pd.read_csv(url)\n",
        "\n",
        "# Выводим первые строки таблицы\n",
        "print(\"Пример данных:\")\n",
        "print(df.head())\n",
        "\n",
        "# Смотрим уникальные значения метки трафика\n",
        "print(\"\\nТипы трафика:\", df['Label'].unique())\n"
      ],
      "metadata": {
        "colab": {
          "base_uri": "https://localhost:8080/"
        },
        "id": "d4YkZOTkX4ir",
        "outputId": "2139eefe-bcf2-4dcd-c805-1aa51f20efea"
      },
      "execution_count": 2,
      "outputs": [
        {
          "output_type": "stream",
          "name": "stdout",
          "text": [
            "Пример данных:\n",
            "   Unnamed: 0  Protocol  Flow Duration  Total Fwd Packets  \\\n",
            "0           0        17         216631                  6   \n",
            "1           1        17              2                  2   \n",
            "2           2        17             48                  2   \n",
            "3           3        17         107319                  4   \n",
            "4           4        17         107271                  4   \n",
            "\n",
            "   Total Backward Packets  Fwd Packets Length Total  Bwd Packets Length Total  \\\n",
            "0                       0                    2088.0                       0.0   \n",
            "1                       0                     802.0                       0.0   \n",
            "2                       0                     766.0                       0.0   \n",
            "3                       0                    1398.0                       0.0   \n",
            "4                       0                    1438.0                       0.0   \n",
            "\n",
            "   Fwd Packet Length Max  Fwd Packet Length Min  Fwd Packet Length Mean  ...  \\\n",
            "0                  393.0                  321.0                   348.0  ...   \n",
            "1                  401.0                  401.0                   401.0  ...   \n",
            "2                  383.0                  383.0                   383.0  ...   \n",
            "3                  369.0                  330.0                   349.5  ...   \n",
            "4                  389.0                  330.0                   359.5  ...   \n",
            "\n",
            "   Active Mean  Active Std  Active Max  Active Min  Idle Mean  Idle Std  \\\n",
            "0          0.0         0.0         0.0         0.0        0.0       0.0   \n",
            "1          0.0         0.0         0.0         0.0        0.0       0.0   \n",
            "2          0.0         0.0         0.0         0.0        0.0       0.0   \n",
            "3          0.0         0.0         0.0         0.0        0.0       0.0   \n",
            "4          0.0         0.0         0.0         0.0        0.0       0.0   \n",
            "\n",
            "   Idle Max  Idle Min  Label   Class  \n",
            "0       0.0       0.0    UDP  Attack  \n",
            "1       0.0       0.0    UDP  Attack  \n",
            "2       0.0       0.0    UDP  Attack  \n",
            "3       0.0       0.0    UDP  Attack  \n",
            "4       0.0       0.0    UDP  Attack  \n",
            "\n",
            "[5 rows x 80 columns]\n",
            "\n",
            "Типы трафика: ['UDP' 'MSSQL' 'Benign' 'Portmap' 'Syn']\n"
          ]
        }
      ]
    },
    {
      "cell_type": "code",
      "source": [
        "# Заменяем строковые метки: 'Benign' → 0, всё остальное (атаки) → 1\n",
        "df['Label'] = df['Label'].apply(lambda x: 0 if x == 'Benign' else 1)\n",
        "\n",
        "# Удаляем пропущенные значения\n",
        "df = df.dropna()\n",
        "\n",
        "# Оставляем только числовые столбцы\n",
        "df = df.select_dtypes(include=[np.number])\n",
        "\n",
        "# Масштабируем признаки с помощью стандартизации (z-score)\n",
        "scaler = StandardScaler()\n",
        "X = scaler.fit_transform(df.drop('Label', axis=1))  # признаки\n",
        "y = df['Label'].values  # метки"
      ],
      "metadata": {
        "id": "olZwZ1XJZRzw"
      },
      "execution_count": 3,
      "outputs": []
    },
    {
      "cell_type": "code",
      "source": [
        "# Разбиваем данные: 80% - обучение, 20% - тест\n",
        "X_train, X_test, y_train, y_test = train_test_split(X, y, test_size=0.2, random_state=42)\n"
      ],
      "metadata": {
        "id": "J2Efa1htZsEZ"
      },
      "execution_count": 4,
      "outputs": []
    },
    {
      "cell_type": "code",
      "source": [
        "# Создаём среду обучения на основе интерфейса OpenAI Gym\n",
        "class TrafficEnv(gym.Env):\n",
        "    def __init__(self, X, y):\n",
        "        super(TrafficEnv, self).__init__()\n",
        "        self.X = X  # входные данные\n",
        "        self.y = y  # метки\n",
        "        self.index = 0  # текущий индекс\n",
        "        self.observation_space = gym.spaces.Box(low=-np.inf, high=np.inf, shape=(X.shape[1],), dtype=np.float32)\n",
        "        self.action_space = gym.spaces.Discrete(2)  # действия: 0 = benign, 1 = attack\n",
        "\n",
        "    def reset(self):\n",
        "        self.index = 0  # сброс индекса\n",
        "        return self.X[self.index]\n",
        "\n",
        "    def step(self, action):\n",
        "        label = self.y[self.index]  # истинная метка\n",
        "        reward = 1 if action == label else -1  # +1 за правильную классификацию, -1 за ошибку\n",
        "        self.index += 1\n",
        "        done = self.index >= len(self.X)  # проверка конца эпизода\n",
        "        obs = self.X[self.index] if not done else np.zeros_like(self.X[0])  # следующее наблюдение\n",
        "        return obs, reward, done, {}\n"
      ],
      "metadata": {
        "id": "QQHB_mwDyqlW"
      },
      "execution_count": 5,
      "outputs": []
    },
    {
      "cell_type": "code",
      "source": [
        "# Простая fully-connected нейросеть для Q-Learning\n",
        "class DQN(nn.Module):\n",
        "    def __init__(self, input_dim, output_dim):\n",
        "        super(DQN, self).__init__()\n",
        "        self.net = nn.Sequential(\n",
        "            nn.Linear(input_dim, 128),  # первый слой\n",
        "            nn.ReLU(),  # активация\n",
        "            nn.Linear(128, output_dim)  # выходной слой\n",
        "        )\n",
        "\n",
        "    def forward(self, x):\n",
        "        return self.net(x)\n"
      ],
      "metadata": {
        "id": "-ulZ4oaoysX-"
      },
      "execution_count": 6,
      "outputs": []
    },
    {
      "cell_type": "code",
      "source": [
        "# Функция обучения агента на среде\n",
        "def train_agent(env, episodes=10, gamma=0.99, lr=1e-3):\n",
        "    model = DQN(env.observation_space.shape[0], env.action_space.n)  # создаём модель\n",
        "    optimizer = optim.Adam(model.parameters(), lr=lr)  # оптимизатор\n",
        "    loss_fn = nn.MSELoss()  # функция потерь\n",
        "\n",
        "    rewards_all = []  # список наград за эпизоды\n",
        "\n",
        "    for episode in tqdm(range(episodes)):\n",
        "        obs = torch.FloatTensor(env.reset())  # начальное состояние\n",
        "        total_reward = 0\n",
        "        done = False\n",
        "\n",
        "        while not done:\n",
        "            with torch.no_grad():\n",
        "                q_vals = model(obs)  # вычисляем Q-значения\n",
        "            action = q_vals.argmax().item()  # выбираем действие с максимальным Q\n",
        "\n",
        "            # Epsilon-greedy: иногда выбираем случайное действие\n",
        "            if np.random.rand() < 0.1:\n",
        "                action = env.action_space.sample()\n",
        "\n",
        "            next_obs, reward, done, _ = env.step(action)  # делаем шаг\n",
        "            next_obs_tensor = torch.FloatTensor(next_obs)\n",
        "\n",
        "            q_target = reward + gamma * model(next_obs_tensor).max().item()  # вычисляем целевое значение\n",
        "\n",
        "            loss = loss_fn(model(obs)[action], torch.tensor(q_target))  # считаем ошибку\n",
        "\n",
        "            optimizer.zero_grad()\n",
        "            loss.backward()\n",
        "            optimizer.step()\n",
        "\n",
        "            obs = next_obs_tensor\n",
        "            total_reward += reward\n",
        "\n",
        "        rewards_all.append(total_reward)  # сохраняем награду за эпизод\n",
        "\n",
        "    return model, rewards_all\n"
      ],
      "metadata": {
        "id": "8DotqTHjyvHW"
      },
      "execution_count": 7,
      "outputs": []
    },
    {
      "cell_type": "code",
      "source": [
        "# Инициализация среды и запуск обучения агента\n",
        "env = TrafficEnv(X_train, y_train)\n",
        "model, rewards = train_agent(env, episodes=30)\n",
        "\n",
        "# Визуализация наград по эпизодам\n",
        "plt.plot(rewards)\n",
        "plt.title(\"Награды по эпизодам\")\n",
        "plt.xlabel(\"Эпизод\")\n",
        "plt.ylabel(\"Общая награда\")\n",
        "plt.grid(True)\n",
        "plt.show()\n"
      ],
      "metadata": {
        "colab": {
          "base_uri": "https://localhost:8080/",
          "height": 489
        },
        "id": "JGX_hAGPywae",
        "outputId": "89c99d04-849b-4859-e7a3-e82feddf0836"
      },
      "execution_count": 8,
      "outputs": [
        {
          "output_type": "stream",
          "name": "stderr",
          "text": [
            "100%|██████████| 30/30 [30:15<00:00, 60.51s/it]\n"
          ]
        },
        {
          "output_type": "display_data",
          "data": {
            "text/plain": [
              "<Figure size 640x480 with 1 Axes>"
            ],
            "image/png": "[encoded data removed]"
          },
          "metadata": {}
        }
      ]
    },
    {
      "cell_type": "markdown",
      "source": [
        "Ось X (горизонтальная) — номер эпизода обучения (от 0 до 29, всего 30 эпизодов).\n",
        "Ось Y (вертикальная) — суммарная награда, полученная агентом за один эпизод.\n",
        "Кривая — показывает, как менялась общая награда по мере обучения агента.\n"
      ],
      "metadata": {
        "id": "x8UC2y_86Of3"
      }
    },
    {
      "cell_type": "markdown",
      "source": [
        "Что такое награда в Reinforcement Learning\n",
        "В обучении с подкреплением:\n",
        "\n",
        "Агент принимает решения (в нашем случае — классифицирует сетевой трафик как Benign или Attack);\n",
        "\n",
        "За каждое действие он получает награду:\n",
        "+1, если правильно классифицировал (например, верно определил атаку);\n",
        "−1, если ошибся (например, пропустил вредоносный запрос).\n",
        "\n",
        "Суммарная награда за эпизод — это общее количество очков, набранных агентом при прохождении всей выборки."
      ],
      "metadata": {
        "id": "LpS7m6Yg6TX-"
      }
    },
    {
      "cell_type": "code",
      "source": [
        "# Оцениваем точность классификации RL-модели\n",
        "def evaluate_model(model, X, y):\n",
        "    X = torch.FloatTensor(X)  # преобразуем в тензоры\n",
        "    preds = model(X).argmax(dim=1).numpy()  # получаем предсказания\n",
        "    from sklearn.metrics import classification_report\n",
        "    print(classification_report(y, preds, target_names=[\"Benign\", \"Attack\"]))  # метрики\n",
        "\n",
        "evaluate_model(model, X_test, y_test)\n"
      ],
      "metadata": {
        "colab": {
          "base_uri": "https://localhost:8080/"
        },
        "id": "q-6MKdxsyxi2",
        "outputId": "23a6b8c8-8f27-4778-8f38-2430a5001be6"
      },
      "execution_count": 9,
      "outputs": [
        {
          "output_type": "stream",
          "name": "stdout",
          "text": [
            "              precision    recall  f1-score   support\n",
            "\n",
            "      Benign       0.97      0.98      0.97      1433\n",
            "      Attack       1.00      0.99      1.00      8281\n",
            "\n",
            "    accuracy                           0.99      9714\n",
            "   macro avg       0.98      0.99      0.98      9714\n",
            "weighted avg       0.99      0.99      0.99      9714\n",
            "\n"
          ]
        }
      ]
    },
    {
      "cell_type": "markdown",
      "source": [
        "Объяснение метрик:\n",
        "Precision\tТочность — сколько предсказанных Attack действительно были атаками\n",
        "Recall\tПолнота — сколько всех реальных Attack было правильно найдено\n",
        "F1-score\tСреднее между precision и recall\n",
        "Support\tСколько всего примеров каждого класса в тесте"
      ],
      "metadata": {
        "id": "R-YfNguL6tlo"
      }
    },
    {
      "cell_type": "code",
      "source": [
        "# Обучаем классическую модель Random Forest\n",
        "from sklearn.ensemble import RandomForestClassifier\n",
        "\n",
        "clf = RandomForestClassifier()\n",
        "clf.fit(X_train, y_train)\n",
        "y_pred_rf = clf.predict(X_test)\n",
        "\n",
        "# Выводим метрики качества\n",
        "print(\"\\n Сравнение с RandomForest:\")\n",
        "from sklearn.metrics import classification_report\n",
        "print(classification_report(y_test, y_pred_rf, target_names=[\"Benign\", \"Attack\"]))\n"
      ],
      "metadata": {
        "colab": {
          "base_uri": "https://localhost:8080/"
        },
        "id": "jxv2eL4r6BSK",
        "outputId": "d8213251-aa84-4710-dd2c-ca6dd72f28f8"
      },
      "execution_count": 11,
      "outputs": [
        {
          "output_type": "stream",
          "name": "stdout",
          "text": [
            "\n",
            " Сравнение с RandomForest:\n",
            "              precision    recall  f1-score   support\n",
            "\n",
            "      Benign       1.00      1.00      1.00      1433\n",
            "      Attack       1.00      1.00      1.00      8281\n",
            "\n",
            "    accuracy                           1.00      9714\n",
            "   macro avg       1.00      1.00      1.00      9714\n",
            "weighted avg       1.00      1.00      1.00      9714\n",
            "\n"
          ]
        }
      ]
    }
  ]
}