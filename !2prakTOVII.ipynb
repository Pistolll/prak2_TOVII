{
  "cells": [
    {
      "cell_type": "markdown",
      "metadata": {
        "id": "view-in-github",
        "colab_type": "text"
      },
      "source": [
        "<a href=\"https://colab.research.google.com/github/Pistolll/prak2_TOVII/blob/main/!2prakTOVII.ipynb\" target=\"_parent\"><img src=\"https://colab.research.google.com/assets/colab-badge.svg\" alt=\"Open In Colab\"/></a>"
      ]
    },
    {
      "cell_type": "code",
      "execution_count": 1,
      "metadata": {
        "id": "MlQ7FzAbXlHX"
      },
      "outputs": [],
      "source": [
        "# Импортируем библиотеки для обработки данных, машинного обучения и нейросетей\n",
        "import gym\n",
        "import numpy as np\n",
        "import pandas as pd\n",
        "from sklearn.preprocessing import StandardScaler\n",
        "from sklearn.model_selection import train_test_split\n",
        "import torch\n",
        "import torch.nn as nn\n",
        "import torch.optim as optim\n",
        "from tqdm import tqdm\n",
        "import matplotlib.pyplot as plt"
      ]
    },
    {
      "cell_type": "code",
      "execution_count": 2,
      "metadata": {
        "colab": {
          "base_uri": "https://localhost:8080/"
        },
        "id": "d4YkZOTkX4ir",
        "outputId": "30932fb8-e30b-46ef-a416-0a2ea61c0713"
      },
      "outputs": [
        {
          "output_type": "stream",
          "name": "stdout",
          "text": [
            "Пример данных:\n",
            "   Unnamed: 0  Protocol  Flow Duration  Total Fwd Packets  \\\n",
            "0           0        17         216631                  6   \n",
            "1           1        17              2                  2   \n",
            "2           2        17             48                  2   \n",
            "3           3        17         107319                  4   \n",
            "4           4        17         107271                  4   \n",
            "\n",
            "   Total Backward Packets  Fwd Packets Length Total  Bwd Packets Length Total  \\\n",
            "0                       0                    2088.0                       0.0   \n",
            "1                       0                     802.0                       0.0   \n",
            "2                       0                     766.0                       0.0   \n",
            "3                       0                    1398.0                       0.0   \n",
            "4                       0                    1438.0                       0.0   \n",
            "\n",
            "   Fwd Packet Length Max  Fwd Packet Length Min  Fwd Packet Length Mean  ...  \\\n",
            "0                  393.0                  321.0                   348.0  ...   \n",
            "1                  401.0                  401.0                   401.0  ...   \n",
            "2                  383.0                  383.0                   383.0  ...   \n",
            "3                  369.0                  330.0                   349.5  ...   \n",
            "4                  389.0                  330.0                   359.5  ...   \n",
            "\n",
            "   Active Mean  Active Std  Active Max  Active Min  Idle Mean  Idle Std  \\\n",
            "0          0.0         0.0         0.0         0.0        0.0       0.0   \n",
            "1          0.0         0.0         0.0         0.0        0.0       0.0   \n",
            "2          0.0         0.0         0.0         0.0        0.0       0.0   \n",
            "3          0.0         0.0         0.0         0.0        0.0       0.0   \n",
            "4          0.0         0.0         0.0         0.0        0.0       0.0   \n",
            "\n",
            "   Idle Max  Idle Min  Label   Class  \n",
            "0       0.0       0.0    UDP  Attack  \n",
            "1       0.0       0.0    UDP  Attack  \n",
            "2       0.0       0.0    UDP  Attack  \n",
            "3       0.0       0.0    UDP  Attack  \n",
            "4       0.0       0.0    UDP  Attack  \n",
            "\n",
            "[5 rows x 80 columns]\n",
            "\n",
            "Типы трафика: ['UDP' 'MSSQL' 'Benign' 'Portmap' 'Syn']\n"
          ]
        }
      ],
      "source": [
        "# Загружаем датасет CIC-DDoS2019 с GitHub\n",
        "url = \"https://raw.githubusercontent.com/Pistolll/prak2_TOVII/refs/heads/main/cicddos2019_dataset.csv\"\n",
        "df = pd.read_csv(url)\n",
        "\n",
        "# Выводим первые строки таблицы\n",
        "print(\"Пример данных:\")\n",
        "print(df.head())\n",
        "\n",
        "# Смотрим уникальные значения метки трафика\n",
        "print(\"\\nТипы трафика:\", df['Label'].unique())\n"
      ]
    },
    {
      "cell_type": "code",
      "execution_count": 3,
      "metadata": {
        "id": "olZwZ1XJZRzw"
      },
      "outputs": [],
      "source": [
        "# Заменяем строковые метки: 'Benign' → 0, всё остальное (атаки) → 1\n",
        "df['Label'] = df['Label'].apply(lambda x: 0 if x == 'Benign' else 1)\n",
        "\n",
        "# Удаляем пропущенные значения\n",
        "df = df.dropna()\n",
        "\n",
        "# Оставляем только числовые столбцы\n",
        "df = df.select_dtypes(include=[np.number])\n",
        "\n",
        "# Масштабируем признаки с помощью стандартизации (z-score)\n",
        "scaler = StandardScaler()\n",
        "X = scaler.fit_transform(df.drop('Label', axis=1))  # признаки\n",
        "y = df['Label'].values  # метки"
      ]
    },
    {
      "cell_type": "code",
      "execution_count": 4,
      "metadata": {
        "id": "J2Efa1htZsEZ"
      },
      "outputs": [],
      "source": [
        "# Разбиваем данные: 80% - обучение, 20% - тест\n",
        "X_train, X_test, y_train, y_test = train_test_split(X, y, test_size=0.2, random_state=42)\n"
      ]
    },
    {
      "cell_type": "code",
      "execution_count": 5,
      "metadata": {
        "id": "QQHB_mwDyqlW"
      },
      "outputs": [],
      "source": [
        "# Создаём среду обучения на основе интерфейса OpenAI Gym\n",
        "class TrafficEnv(gym.Env):\n",
        "    def __init__(self, X, y):\n",
        "        super(TrafficEnv, self).__init__()\n",
        "        self.X = X  # входные данные\n",
        "        self.y = y  # метки\n",
        "        self.index = 0  # текущий индекс\n",
        "        self.observation_space = gym.spaces.Box(low=-np.inf, high=np.inf, shape=(X.shape[1],), dtype=np.float32)\n",
        "        self.action_space = gym.spaces.Discrete(2)  # действия: 0 = benign, 1 = attack\n",
        "\n",
        "    def reset(self):\n",
        "        self.index = 0  # сброс индекса\n",
        "        return self.X[self.index]\n",
        "\n",
        "    def step(self, action):\n",
        "        label = self.y[self.index]  # истинная метка\n",
        "        reward = 1 if action == label else -1  # +1 за правильную классификацию, -1 за ошибку\n",
        "        self.index += 1\n",
        "        done = self.index >= len(self.X)  # проверка конца эпизода\n",
        "        obs = self.X[self.index] if not done else np.zeros_like(self.X[0])  # следующее наблюдение\n",
        "        return obs, reward, done, {}\n"
      ]
    },
    {
      "cell_type": "code",
      "execution_count": 6,
      "metadata": {
        "id": "-ulZ4oaoysX-"
      },
      "outputs": [],
      "source": [
        "# Простая fully-connected нейросеть для Q-Learning\n",
        "class DQN(nn.Module):\n",
        "    def __init__(self, input_dim, output_dim):\n",
        "        super(DQN, self).__init__()\n",
        "        self.net = nn.Sequential(\n",
        "            nn.Linear(input_dim, 128),  # первый слой\n",
        "            nn.ReLU(),  # активация\n",
        "            nn.Linear(128, output_dim)  # выходной слой\n",
        "        )\n",
        "\n",
        "    def forward(self, x):\n",
        "        return self.net(x)\n"
      ]
    },
    {
      "cell_type": "code",
      "execution_count": 17,
      "metadata": {
        "id": "8DotqTHjyvHW",
        "colab": {
          "base_uri": "https://localhost:8080/"
        },
        "outputId": "818d5010-4abb-47bf-896f-92cc674dd947"
      },
      "outputs": [
        {
          "output_type": "stream",
          "name": "stderr",
          "text": [
            "Обучение агента:   3%|▎         | 1/30 [00:00<00:07,  3.75it/s]"
          ]
        },
        {
          "output_type": "stream",
          "name": "stdout",
          "text": [
            "Эпизод 1: Общая награда = -8, шагов: 100, ε = 0.995\n"
          ]
        },
        {
          "output_type": "stream",
          "name": "stderr",
          "text": [
            "\rОбучение агента:   7%|▋         | 2/30 [00:01<00:16,  1.67it/s]"
          ]
        },
        {
          "output_type": "stream",
          "name": "stdout",
          "text": [
            "Эпизод 2: Общая награда = -2, шагов: 100, ε = 0.990\n"
          ]
        },
        {
          "output_type": "stream",
          "name": "stderr",
          "text": [
            "\rОбучение агента:  10%|█         | 3/30 [00:01<00:15,  1.73it/s]"
          ]
        },
        {
          "output_type": "stream",
          "name": "stdout",
          "text": [
            "Эпизод 3: Общая награда = -2, шагов: 100, ε = 0.985\n"
          ]
        },
        {
          "output_type": "stream",
          "name": "stderr",
          "text": [
            "\rОбучение агента:  13%|█▎        | 4/30 [00:02<00:12,  2.03it/s]"
          ]
        },
        {
          "output_type": "stream",
          "name": "stdout",
          "text": [
            "Эпизод 4: Общая награда = 14, шагов: 100, ε = 0.980\n"
          ]
        },
        {
          "output_type": "stream",
          "name": "stderr",
          "text": [
            "\rОбучение агента:  17%|█▋        | 5/30 [00:02<00:11,  2.24it/s]"
          ]
        },
        {
          "output_type": "stream",
          "name": "stdout",
          "text": [
            "Эпизод 5: Общая награда = 28, шагов: 100, ε = 0.975\n"
          ]
        },
        {
          "output_type": "stream",
          "name": "stderr",
          "text": [
            "\rОбучение агента:  20%|██        | 6/30 [00:02<00:10,  2.39it/s]"
          ]
        },
        {
          "output_type": "stream",
          "name": "stdout",
          "text": [
            "Эпизод 6: Общая награда = -4, шагов: 100, ε = 0.970\n"
          ]
        },
        {
          "output_type": "stream",
          "name": "stderr",
          "text": [
            "\rОбучение агента:  23%|██▎       | 7/30 [00:03<00:09,  2.49it/s]"
          ]
        },
        {
          "output_type": "stream",
          "name": "stdout",
          "text": [
            "Эпизод 7: Общая награда = 4, шагов: 100, ε = 0.966\n"
          ]
        },
        {
          "output_type": "stream",
          "name": "stderr",
          "text": [
            "\rОбучение агента:  27%|██▋       | 8/30 [00:03<00:08,  2.59it/s]"
          ]
        },
        {
          "output_type": "stream",
          "name": "stdout",
          "text": [
            "Эпизод 8: Общая награда = 10, шагов: 100, ε = 0.961\n"
          ]
        },
        {
          "output_type": "stream",
          "name": "stderr",
          "text": [
            "\rОбучение агента:  30%|███       | 9/30 [00:03<00:07,  2.63it/s]"
          ]
        },
        {
          "output_type": "stream",
          "name": "stdout",
          "text": [
            "Эпизод 9: Общая награда = 10, шагов: 100, ε = 0.956\n"
          ]
        },
        {
          "output_type": "stream",
          "name": "stderr",
          "text": [
            "\rОбучение агента:  33%|███▎      | 10/30 [00:04<00:07,  2.69it/s]"
          ]
        },
        {
          "output_type": "stream",
          "name": "stdout",
          "text": [
            "Эпизод 10: Общая награда = 20, шагов: 100, ε = 0.951\n"
          ]
        },
        {
          "output_type": "stream",
          "name": "stderr",
          "text": [
            "\rОбучение агента:  37%|███▋      | 11/30 [00:04<00:07,  2.70it/s]"
          ]
        },
        {
          "output_type": "stream",
          "name": "stdout",
          "text": [
            "Эпизод 11: Общая награда = 14, шагов: 100, ε = 0.946\n"
          ]
        },
        {
          "output_type": "stream",
          "name": "stderr",
          "text": [
            "\rОбучение агента:  40%|████      | 12/30 [00:04<00:06,  2.62it/s]"
          ]
        },
        {
          "output_type": "stream",
          "name": "stdout",
          "text": [
            "Эпизод 12: Общая награда = 12, шагов: 100, ε = 0.942\n"
          ]
        },
        {
          "output_type": "stream",
          "name": "stderr",
          "text": [
            "\rОбучение агента:  43%|████▎     | 13/30 [00:05<00:06,  2.66it/s]"
          ]
        },
        {
          "output_type": "stream",
          "name": "stdout",
          "text": [
            "Эпизод 13: Общая награда = -6, шагов: 100, ε = 0.937\n"
          ]
        },
        {
          "output_type": "stream",
          "name": "stderr",
          "text": [
            "\rОбучение агента:  47%|████▋     | 14/30 [00:05<00:06,  2.66it/s]"
          ]
        },
        {
          "output_type": "stream",
          "name": "stdout",
          "text": [
            "Эпизод 14: Общая награда = -2, шагов: 100, ε = 0.932\n"
          ]
        },
        {
          "output_type": "stream",
          "name": "stderr",
          "text": [
            "\rОбучение агента:  50%|█████     | 15/30 [00:06<00:05,  2.63it/s]"
          ]
        },
        {
          "output_type": "stream",
          "name": "stdout",
          "text": [
            "Эпизод 15: Общая награда = 20, шагов: 100, ε = 0.928\n"
          ]
        },
        {
          "output_type": "stream",
          "name": "stderr",
          "text": [
            "\rОбучение агента:  53%|█████▎    | 16/30 [00:06<00:05,  2.58it/s]"
          ]
        },
        {
          "output_type": "stream",
          "name": "stdout",
          "text": [
            "Эпизод 16: Общая награда = 10, шагов: 100, ε = 0.923\n"
          ]
        },
        {
          "output_type": "stream",
          "name": "stderr",
          "text": [
            "\rОбучение агента:  57%|█████▋    | 17/30 [00:07<00:05,  2.21it/s]"
          ]
        },
        {
          "output_type": "stream",
          "name": "stdout",
          "text": [
            "Эпизод 17: Общая награда = 2, шагов: 100, ε = 0.918\n"
          ]
        },
        {
          "output_type": "stream",
          "name": "stderr",
          "text": [
            "\rОбучение агента:  60%|██████    | 18/30 [00:07<00:06,  1.98it/s]"
          ]
        },
        {
          "output_type": "stream",
          "name": "stdout",
          "text": [
            "Эпизод 18: Общая награда = -6, шагов: 100, ε = 0.914\n"
          ]
        },
        {
          "output_type": "stream",
          "name": "stderr",
          "text": [
            "\rОбучение агента:  63%|██████▎   | 19/30 [00:08<00:05,  1.85it/s]"
          ]
        },
        {
          "output_type": "stream",
          "name": "stdout",
          "text": [
            "Эпизод 19: Общая награда = 12, шагов: 100, ε = 0.909\n"
          ]
        },
        {
          "output_type": "stream",
          "name": "stderr",
          "text": [
            "\rОбучение агента:  67%|██████▋   | 20/30 [00:08<00:05,  1.78it/s]"
          ]
        },
        {
          "output_type": "stream",
          "name": "stdout",
          "text": [
            "Эпизод 20: Общая награда = 0, шагов: 100, ε = 0.905\n"
          ]
        },
        {
          "output_type": "stream",
          "name": "stderr",
          "text": [
            "\rОбучение агента:  70%|███████   | 21/30 [00:09<00:04,  1.93it/s]"
          ]
        },
        {
          "output_type": "stream",
          "name": "stdout",
          "text": [
            "Эпизод 21: Общая награда = -2, шагов: 100, ε = 0.900\n"
          ]
        },
        {
          "output_type": "stream",
          "name": "stderr",
          "text": [
            "\rОбучение агента:  73%|███████▎  | 22/30 [00:09<00:03,  2.11it/s]"
          ]
        },
        {
          "output_type": "stream",
          "name": "stdout",
          "text": [
            "Эпизод 22: Общая награда = -2, шагов: 100, ε = 0.896\n"
          ]
        },
        {
          "output_type": "stream",
          "name": "stderr",
          "text": [
            "\rОбучение агента:  77%|███████▋  | 23/30 [00:10<00:03,  2.23it/s]"
          ]
        },
        {
          "output_type": "stream",
          "name": "stdout",
          "text": [
            "Эпизод 23: Общая награда = 10, шагов: 100, ε = 0.891\n"
          ]
        },
        {
          "output_type": "stream",
          "name": "stderr",
          "text": [
            "\rОбучение агента:  80%|████████  | 24/30 [00:10<00:02,  2.36it/s]"
          ]
        },
        {
          "output_type": "stream",
          "name": "stdout",
          "text": [
            "Эпизод 24: Общая награда = 2, шагов: 100, ε = 0.887\n"
          ]
        },
        {
          "output_type": "stream",
          "name": "stderr",
          "text": [
            "\rОбучение агента:  83%|████████▎ | 25/30 [00:10<00:02,  2.49it/s]"
          ]
        },
        {
          "output_type": "stream",
          "name": "stdout",
          "text": [
            "Эпизод 25: Общая награда = 22, шагов: 100, ε = 0.882\n"
          ]
        },
        {
          "output_type": "stream",
          "name": "stderr",
          "text": [
            "\rОбучение агента:  87%|████████▋ | 26/30 [00:11<00:01,  2.55it/s]"
          ]
        },
        {
          "output_type": "stream",
          "name": "stdout",
          "text": [
            "Эпизод 26: Общая награда = 12, шагов: 100, ε = 0.878\n"
          ]
        },
        {
          "output_type": "stream",
          "name": "stderr",
          "text": [
            "\rОбучение агента:  90%|█████████ | 27/30 [00:11<00:01,  2.62it/s]"
          ]
        },
        {
          "output_type": "stream",
          "name": "stdout",
          "text": [
            "Эпизод 27: Общая награда = -6, шагов: 100, ε = 0.873\n"
          ]
        },
        {
          "output_type": "stream",
          "name": "stderr",
          "text": [
            "\rОбучение агента:  93%|█████████▎| 28/30 [00:11<00:00,  2.67it/s]"
          ]
        },
        {
          "output_type": "stream",
          "name": "stdout",
          "text": [
            "Эпизод 28: Общая награда = 16, шагов: 100, ε = 0.869\n"
          ]
        },
        {
          "output_type": "stream",
          "name": "stderr",
          "text": [
            "\rОбучение агента:  97%|█████████▋| 29/30 [00:12<00:00,  2.65it/s]"
          ]
        },
        {
          "output_type": "stream",
          "name": "stdout",
          "text": [
            "Эпизод 29: Общая награда = -6, шагов: 100, ε = 0.865\n"
          ]
        },
        {
          "output_type": "stream",
          "name": "stderr",
          "text": [
            "Обучение агента: 100%|██████████| 30/30 [00:12<00:00,  2.37it/s]"
          ]
        },
        {
          "output_type": "stream",
          "name": "stdout",
          "text": [
            "Эпизод 30: Общая награда = 16, шагов: 100, ε = 0.860\n"
          ]
        },
        {
          "output_type": "stream",
          "name": "stderr",
          "text": [
            "\n"
          ]
        }
      ],
      "source": [
        "from tqdm import trange  # Импортируем прогресс-бар для отображения процесса обучения в цикле\n",
        "\n",
        "def train_agent(env, episodes=30, gamma=0.99):\n",
        "    \"\"\"\n",
        "    Обучает агента в среде с помощью DQN и одной переменной epsilon.\n",
        "\n",
        "    Параметры:\n",
        "    - env: среда обучения (совместимая с OpenAI Gym)\n",
        "    - episodes: количество эпизодов для обучения агента\n",
        "    - gamma: коэффициент дисконтирования наград (будущих шагов)\n",
        "\n",
        "    Возвращает:\n",
        "    - обученную модель DQN\n",
        "    - список суммарных наград за каждый эпизод обучения\n",
        "    \"\"\"\n",
        "    # Создаем модель DQN с размерностью входа = размер состояния, выход = количество действий\n",
        "    model = DQN(env.observation_space.shape[0], env.action_space.n)\n",
        "    # Оптимизатор Adam с параметрами по умолчанию для обновления весов модели\n",
        "    optimizer = optim.Adam(model.parameters())\n",
        "    # Функция потерь — среднеквадратичная ошибка между Q-значениями\n",
        "    loss_fn = nn.MSELoss()\n",
        "\n",
        "    replay_memory = []  # Память для хранения переходов (опытов) агента\n",
        "    batch_size = 64     # Размер выборки из памяти для обучения за один шаг\n",
        "    epsilon = 1.0       # Параметр для epsilon-greedy стратегии (начинаем с максимального исследования)\n",
        "    rewards_all = []    # Список для хранения суммарных наград за каждый эпизод\n",
        "\n",
        "    # Цикл по эпизодам с прогресс-баром\n",
        "    for episode in trange(episodes, desc=\"Обучение агента\"):\n",
        "        obs = env.reset()       # Сбрасываем среду в начальное состояние\n",
        "        total_reward = 0        # Накопленная награда за эпизод\n",
        "        done = False            # Флаг завершения эпизода\n",
        "        step_count = 0          # Счётчик шагов в эпизоде\n",
        "\n",
        "        # Цикл шагов в эпизоде — пока эпизод не завершён или не достигнут лимит шагов (100)\n",
        "        while not done and step_count < 100:\n",
        "            # Выбор действия по epsilon-greedy: с вероятностью epsilon случайное действие,\n",
        "            # иначе действие с максимальным Q-значением\n",
        "            if np.random.rand() < epsilon:\n",
        "                action = env.action_space.sample()  # Случайное действие (исследование)\n",
        "            else:\n",
        "                with torch.no_grad():  # Вычисления без сохранения градиентов (для скорости)\n",
        "                    state_tensor = torch.FloatTensor(obs).unsqueeze(0)  # Преобразуем состояние в тензор с размером (1, state_dim)\n",
        "                    q_vals = model(state_tensor)  # Предсказание Q-значений для всех действий\n",
        "                    action = q_vals.argmax().item()  # Выбираем действие с максимальным Q-значением\n",
        "\n",
        "            # Выполняем действие в среде и получаем новое состояние, награду и признак завершения эпизода\n",
        "            next_obs, reward, done, _ = env.step(action)\n",
        "            total_reward += reward  # Накопляем награду\n",
        "            step_count += 1        # Увеличиваем счётчик шагов\n",
        "\n",
        "            # Добавляем переход (опыт) в replay memory\n",
        "            replay_memory.append((obs, action, reward, next_obs, done))\n",
        "            obs = next_obs  # Обновляем текущее состояние\n",
        "\n",
        "            # Если накоплено достаточно опыта для обучения\n",
        "            if len(replay_memory) >= batch_size:\n",
        "                # Выбираем случайный батч из памяти для обучения\n",
        "                batch = random.sample(replay_memory, batch_size)\n",
        "                states, actions, rewards_b, next_states, dones = zip(*batch)\n",
        "\n",
        "                # Преобразуем батчи в тензоры для подачи в модель\n",
        "                states = torch.FloatTensor(states)\n",
        "                actions = torch.LongTensor(actions).unsqueeze(1)  # Для gather нужен 2D-тензор\n",
        "                rewards_b = torch.FloatTensor(rewards_b).unsqueeze(1)\n",
        "                next_states = torch.FloatTensor(next_states)\n",
        "                dones = torch.BoolTensor(dones).unsqueeze(1)\n",
        "\n",
        "                # Получаем Q-значения для выбранных действий из модели\n",
        "                q_values = model(states).gather(1, actions)\n",
        "                # Вычисляем максимальные Q-значения для следующих состояний (без учета действий)\n",
        "                next_q_values = model(next_states).max(1)[0].unsqueeze(1)\n",
        "                # Вычисляем целевые значения с учетом дисконтирования и признака завершения эпизода\n",
        "                expected_q = rewards_b + gamma * next_q_values * (~dones)\n",
        "\n",
        "                # Вычисляем ошибку между предсказанными и целевыми Q-значениями\n",
        "                loss = loss_fn(q_values, expected_q.detach())\n",
        "\n",
        "                # Обновляем веса модели с помощью обратного распространения ошибки\n",
        "                optimizer.zero_grad()\n",
        "                loss.backward()\n",
        "                optimizer.step()\n",
        "\n",
        "        # Плавное уменьшение epsilon — уменьшаем исследование со временем, но не ниже 0.1\n",
        "        epsilon = max(0.1, epsilon * 0.995)\n",
        "        rewards_all.append(total_reward)  # Записываем награду за эпизод\n",
        "\n",
        "        # Выводим промежуточную информацию по текущему эпизоду\n",
        "        print(f\"Эпизод {episode+1}: Общая награда = {total_reward}, шагов: {step_count}, ε = {epsilon:.3f}\")\n",
        "\n",
        "    # Возвращаем обученную модель и список наград\n",
        "    return model, rewards_all\n",
        "\n",
        "# Создаем среду для обучения (пример: среда управления трафиком)\n",
        "env = TrafficEnv(X_train, y_train)\n",
        "# Запускаем процесс обучения агента на 30 эпизодов\n",
        "model, rewards = train_agent(env, episodes=30)\n"
      ]
    },
    {
      "cell_type": "markdown",
      "source": [
        " Награды — это числовые значения, которые агент получает в ходе обучения в каждом эпизоде. Они отражают, насколько хорошо агент справился с задачей на каждом этапе взаимодействия со средой."
      ],
      "metadata": {
        "id": "pxj41JlJFF-o"
      }
    },
    {
      "cell_type": "markdown",
      "metadata": {
        "id": "x8UC2y_86Of3"
      },
      "source": [
        "Ось X (горизонтальная) — номер эпизода обучения.\n",
        "Ось Y (вертикальная) — суммарная награда, полученная агентом за один эпизод.\n",
        "Кривая — показывает, как менялась общая награда по мере обучения агента.\n"
      ]
    },
    {
      "cell_type": "code",
      "source": [
        "# Строим график наград по эпизодам\n",
        "plt.plot(rewards)\n",
        "plt.title(\"Награды по эпизодам\")\n",
        "plt.xlabel(\"Эпизод\")\n",
        "plt.ylabel(\"Общая награда\")\n",
        "plt.grid(True)\n",
        "plt.show()"
      ],
      "metadata": {
        "colab": {
          "base_uri": "https://localhost:8080/",
          "height": 472
        },
        "id": "XaxaQSWVnBEM",
        "outputId": "e1a1fdcd-9eab-4af7-e781-e65da65bc4b4"
      },
      "execution_count": 14,
      "outputs": [
        {
          "output_type": "display_data",
          "data": {
            "text/plain": [
              "<Figure size 640x480 with 1 Axes>"
            ],
            "image/png": "[encoded data removed]"
          },
          "metadata": {}
        }
      ]
    },
    {
      "cell_type": "markdown",
      "source": [
        "🔹 Что такое ε в контексте обучения с подкреплением?\n",
        "Эпсилон используется в epsilon-greedy strategy — одном из ключевых методов выбора действий агентом в процессе обучения.\n",
        "\n",
        "🔸 Зачем он нужен?\n",
        "Эпсилон нужен для баланса между исследованием и эксплуатацией:\n",
        "\n",
        "Исследование: агент пробует новые действия, которые могут привести к лучшим наградам в будущем.\n",
        "\n",
        "Эксплуатация: агент выбирает известное наилучшее действие на основе уже полученного опыта (Q-значений).\n",
        "\n",
        "🔸 Как работает ε-жадная стратегия:\n",
        "На каждом шаге агент:\n",
        "\n",
        "с вероятностью ε выбирает случайное действие (исследует),\n",
        "\n",
        "с вероятностью 1 - ε выбирает лучшее по Q-сети действие (эксплуатирует).\n",
        "\n",
        "🔸 Почему важна постепенная затухающая ε-стратегия?\n",
        "В начале обучения — ε высокий (например, 1.0), агент изучает мир, пробует всё подряд.\n",
        "\n",
        "Постепенно — ε уменьшается (например, до 0.05), агент всё чаще действует на основе уже выученной Q-сети.\n",
        "\n",
        "Это позволяет сначала собрать разнообразный опыт, а потом эффективно использовать знания для максимизации награды."
      ],
      "metadata": {
        "id": "VIazVT5i60vp"
      }
    },
    {
      "cell_type": "markdown",
      "metadata": {
        "id": "LpS7m6Yg6TX-"
      },
      "source": [
        "Что такое награда в Reinforcement Learning\n",
        "В обучении с подкреплением:\n",
        "\n",
        "Агент принимает решения (в нашем случае — классифицирует сетевой трафик как Benign или Attack);\n",
        "\n",
        "За каждое действие он получает награду:\n",
        "+1, если правильно классифицировал (например, верно определил атаку);\n",
        "−1, если ошибся (например, пропустил вредоносный запрос).\n",
        "\n",
        "Суммарная награда за эпизод — это общее количество очков, набранных агентом при прохождении всей выборки."
      ]
    },
    {
      "cell_type": "code",
      "execution_count": 15,
      "metadata": {
        "colab": {
          "base_uri": "https://localhost:8080/"
        },
        "id": "q-6MKdxsyxi2",
        "outputId": "0af61491-b3f5-4db1-8ab2-2e5c9787f332"
      },
      "outputs": [
        {
          "output_type": "stream",
          "name": "stdout",
          "text": [
            "              precision    recall  f1-score   support\n",
            "\n",
            "      Benign       0.81      0.78      0.79      1433\n",
            "      Attack       0.96      0.97      0.96      8281\n",
            "\n",
            "    accuracy                           0.94      9714\n",
            "   macro avg       0.88      0.87      0.88      9714\n",
            "weighted avg       0.94      0.94      0.94      9714\n",
            "\n"
          ]
        }
      ],
      "source": [
        "# Оцениваем точность классификации RL-модели\n",
        "def evaluate_model(model, X, y):\n",
        "    X = torch.FloatTensor(X)  # преобразуем в тензоры\n",
        "    preds = model(X).argmax(dim=1).numpy()  # получаем предсказания\n",
        "    from sklearn.metrics import classification_report\n",
        "    print(classification_report(y, preds, target_names=[\"Benign\", \"Attack\"]))  # метрики\n",
        "\n",
        "evaluate_model(model, X_test, y_test)\n"
      ]
    },
    {
      "cell_type": "markdown",
      "metadata": {
        "id": "R-YfNguL6tlo"
      },
      "source": [
        "Объяснение метрик:\n",
        "\n",
        "Precision\tТочность — сколько предсказанных Attack действительно были атаками\n",
        "\n",
        "Recall\tПолнота — сколько всех реальных Attack было правильно найдено\n",
        "\n",
        "F1-score\tСреднее между precision и recall\n",
        "\n",
        "Support\tСколько всего примеров каждого класса в тесте"
      ]
    },
    {
      "cell_type": "code",
      "execution_count": 16,
      "metadata": {
        "colab": {
          "base_uri": "https://localhost:8080/"
        },
        "id": "jxv2eL4r6BSK",
        "outputId": "6cf64dcb-4ab1-471a-842d-bc79ac3184b6"
      },
      "outputs": [
        {
          "output_type": "stream",
          "name": "stdout",
          "text": [
            "\n",
            " Сравнение с RandomForest:\n",
            "              precision    recall  f1-score   support\n",
            "\n",
            "      Benign       1.00      1.00      1.00      1433\n",
            "      Attack       1.00      1.00      1.00      8281\n",
            "\n",
            "    accuracy                           1.00      9714\n",
            "   macro avg       1.00      1.00      1.00      9714\n",
            "weighted avg       1.00      1.00      1.00      9714\n",
            "\n"
          ]
        }
      ],
      "source": [
        "# Обучаем классическую модель Random Forest\n",
        "from sklearn.ensemble import RandomForestClassifier\n",
        "\n",
        "clf = RandomForestClassifier()\n",
        "clf.fit(X_train, y_train)\n",
        "y_pred_rf = clf.predict(X_test)\n",
        "\n",
        "# Выводим метрики качества\n",
        "print(\"\\n Сравнение с RandomForest:\")\n",
        "from sklearn.metrics import classification_report\n",
        "print(classification_report(y_test, y_pred_rf, target_names=[\"Benign\", \"Attack\"]))\n"
      ]
    }
  ],
  "metadata": {
    "colab": {
      "provenance": [],
      "authorship_tag": "ABX9TyNAjY7gEJcQNeJbNGVo6yrR",
      "include_colab_link": true
    },
    "kernelspec": {
      "display_name": "Python 3",
      "name": "python3"
    },
    "language_info": {
      "name": "python"
    }
  },
  "nbformat": 4,
  "nbformat_minor": 0
}